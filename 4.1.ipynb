{
 "cells": [
  {
   "cell_type": "code",
   "execution_count": 48,
   "metadata": {
    "collapsed": false
   },
   "outputs": [
    {
     "name": "stdout",
     "output_type": "stream",
     "text": [
      "          count    year\nname                   \nJames   5159306  533752\nJohn    5127501  533752\nRobert  4829274  531736\n"
     ]
    },
    {
     "name": "stdout",
     "output_type": "stream",
     "text": [
      "{'F': [299810, 1713259, 1814922], 'M': [150486, 1790871, 1962744]}\n"
     ]
    }
   ],
   "source": [
    "import pandas as pd\n",
    "import os\n",
    "\n",
    "\n",
    "def cook_datacook_da(dir_to_files):\n",
    "    datas = pd.DataFrame({})\n",
    "    files = os.listdir(dir_to_files)\n",
    "    \n",
    "    for file in files:\n",
    "        if file.endswith(\".txt\"):\n",
    "            piece_of_data = pd.read_csv(os.path.join(dir_to_files, file), names=[\"name\", \"sex\", \"count\", \"year\"])\n",
    "            year_of_data = file[3:7]\n",
    "            piece_of_data[\"year\"] = int(year_of_data)\n",
    "            datas = pd.concat([datas, piece_of_data])\n",
    "    return datas\n",
    "\n",
    "    \n",
    "datas = cook_datacook_da(\"C:\\\\Users\\\\a.pak.INTELLECTIKA\\\\Desktop\\\\netology\\\\4.1\\\\names\")\n",
    "\n",
    "\n",
    "\n",
    "def get_sum_by_gender_and_years(datas, years, gender):\n",
    "    buf = []\n",
    "    for year in years:\n",
    "        buf.append(datas[ (datas.year == year) & (datas.sex == gender)].sum()[\"count\"])\n",
    "    return buf\n",
    "\n",
    "\n",
    "def count_dynamics(datas, years):\n",
    "    res = dict()\n",
    "    res[\"F\"] = get_sum_by_gender_and_years(datas, years, \"F\")\n",
    "    res[\"M\"] = get_sum_by_gender_and_years(datas, years, \"M\")\n",
    "    \n",
    "    return res\n",
    "    \n",
    "    \n",
    "print(datas.groupby(\"name\").sum().sort_values(by=[\"count\"], ascending=False).head(3))\n",
    "    \n",
    "    \n",
    "print(count_dynamics(datas, [1900, 1950, 2000]))\n"
   ]
  },
  {
   "cell_type": "code",
   "execution_count": 4,
   "metadata": {},
   "outputs": [
    {
     "ename": "NameError",
     "evalue": "name 'datas' is not defined",
     "traceback": [
      "\u001b[1;31m---------------------------------------------------------------------------\u001b[0m",
      "\u001b[1;31mNameError\u001b[0m                                 Traceback (most recent call last)",
      "\u001b[1;32m<ipython-input-4-b9606a9f6f48>\u001b[0m in \u001b[0;36m<module>\u001b[1;34m()\u001b[0m\n\u001b[0;32m      2\u001b[0m     \u001b[0mprint\u001b[0m\u001b[1;33m(\u001b[0m\u001b[0mdatas\u001b[0m\u001b[1;33m.\u001b[0m\u001b[0mgroupby\u001b[0m\u001b[1;33m(\u001b[0m\u001b[1;34m\"sex\"\u001b[0m\u001b[1;33m)\u001b[0m\u001b[1;33m.\u001b[0m\u001b[0msum\u001b[0m\u001b[1;33m(\u001b[0m\u001b[1;33m)\u001b[0m\u001b[1;33m)\u001b[0m\u001b[1;33m\u001b[0m\u001b[0m\n\u001b[0;32m      3\u001b[0m \u001b[1;33m\u001b[0m\u001b[0m\n\u001b[1;32m----> 4\u001b[1;33m \u001b[0mcount_top3\u001b[0m\u001b[1;33m(\u001b[0m\u001b[0mdatas\u001b[0m\u001b[1;33m)\u001b[0m\u001b[1;33m\u001b[0m\u001b[0m\n\u001b[0m",
      "\u001b[1;31mNameError\u001b[0m: name 'datas' is not defined"
     ],
     "output_type": "error"
    }
   ],
   "source": [
    ""
   ]
  },
  {
   "cell_type": "code",
   "execution_count": 3,
   "metadata": {},
   "outputs": [
    {
     "ename": "NameError",
     "evalue": "name 'count_top3' is not defined",
     "traceback": [
      "\u001b[1;31m---------------------------------------------------------------------------\u001b[0m",
      "\u001b[1;31mNameError\u001b[0m                                 Traceback (most recent call last)",
      "\u001b[1;32m<ipython-input-3-37812aa1caa9>\u001b[0m in \u001b[0;36m<module>\u001b[1;34m()\u001b[0m\n\u001b[1;32m----> 1\u001b[1;33m \u001b[0mcount_top3\u001b[0m\u001b[1;33m(\u001b[0m\u001b[0mdatas\u001b[0m\u001b[1;33m)\u001b[0m\u001b[1;33m\u001b[0m\u001b[0m\n\u001b[0m",
      "\u001b[1;31mNameError\u001b[0m: name 'count_top3' is not defined"
     ],
     "output_type": "error"
    }
   ],
   "source": [
    ""
   ]
  },
  {
   "cell_type": "code",
   "execution_count": null,
   "metadata": {},
   "outputs": [],
   "source": []
  }
 ],
 "metadata": {
  "kernelspec": {
   "display_name": "Python 2",
   "language": "python",
   "name": "python2"
  },
  "language_info": {
   "codemirror_mode": {
    "name": "ipython",
    "version": 2
   },
   "file_extension": ".py",
   "mimetype": "text/x-python",
   "name": "python",
   "nbconvert_exporter": "python",
   "pygments_lexer": "ipython2",
   "version": "2.7.6"
  }
 },
 "nbformat": 4,
 "nbformat_minor": 0
}
